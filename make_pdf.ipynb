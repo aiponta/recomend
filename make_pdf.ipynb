{
 "cells": [
  {
   "cell_type": "markdown",
   "id": "7aaa6586-7fc0-42db-9569-12a999ccb35f",
   "metadata": {
    "tags": []
   },
   "source": [
    "# 計算結果をもとにインフォシートを編集する"
   ]
  },
  {
   "cell_type": "markdown",
   "id": "15074979-e58e-4b03-8e91-0d46e7de47d7",
   "metadata": {},
   "source": [
    "- https://qiita.com/chiba___/items/c91ba97864efceb81f4d <br>\n",
    "- https://qiita.com/Chanmoro/items/9a3c86bb465c1cce738a#chrome-%E3%82%92%E3%82%A4%E3%83%B3%E3%82%B9%E3%83%88%E3%83%BC%E3%83%AB <br>\n",
    "- https://news.mynavi.jp/techplus/article/zeropython-70/ <br>\n",
    "- https://news.mynavi.jp/techplus/article/zeropython-66/ <br>\n",
    "- https://zenn.dev/kazuki_tam/articles/6c3cf0729c5b847cc2a4 <br>\n",
    "- https://ai-inter1.com/python-selenium/ <br>\n",
    "- https://regardie.dev/post-3034 <br>\n",
    "- https://sushiringblog.com/chromedriver-error<br>\n",
    "\n",
    "- https://gigazine.net/news/20180818-gcp-node-puppeteer-headless-chrome/ <br>\n",
    "- https://qiita.com/Moh_no/items/e8902ec40df7ddf9448a <br>\n",
    "- https://blog.crispy-inc.com/entry/2022/02/08/113157 CloudFunctions to Crawring<br>"
   ]
  },
  {
   "cell_type": "code",
   "execution_count": 15,
   "id": "f68d3fb9-5166-4d5d-97e3-62b8ea152596",
   "metadata": {},
   "outputs": [
    {
     "name": "stdout",
     "output_type": "stream",
     "text": [
      "Collecting pycairo\n",
      "  Using cached pycairo-1.23.0.tar.gz (344 kB)\n",
      "  Installing build dependencies ... \u001b[?25ldone\n",
      "\u001b[?25h  Getting requirements to build wheel ... \u001b[?25ldone\n",
      "\u001b[?25h  Installing backend dependencies ... \u001b[?25ldone\n",
      "\u001b[?25h  Preparing metadata (pyproject.toml) ... \u001b[?25ldone\n",
      "\u001b[?25hBuilding wheels for collected packages: pycairo\n",
      "  Building wheel for pycairo (pyproject.toml) ... \u001b[?25ldone\n",
      "\u001b[?25h  Created wheel for pycairo: filename=pycairo-1.23.0-cp37-cp37m-linux_x86_64.whl size=312628 sha256=c268bda6d4d44c372d08f2b55b862a790b99c4232bfc14bbaa61a441d0f61f66\n",
      "  Stored in directory: /home/jupyter/.cache/pip/wheels/e2/aa/01/80f2cc50a47695378561dfcd8406b09b2ecf8fa66d46177052\n",
      "Successfully built pycairo\n",
      "Installing collected packages: pycairo\n",
      "Successfully installed pycairo-1.23.0\n"
     ]
    }
   ],
   "source": [
    "!pip3 install pycairo\n",
    "!pip3 install PyPDF2\n",
    "!pip3 install reportlab\n",
    "!pip3 install pdfrw\n",
    "!pip install gspread"
   ]
  },
  {
   "cell_type": "code",
   "execution_count": 18,
   "id": "c8a33d27-6e5c-4cef-9dd2-3b8382707ac1",
   "metadata": {},
   "outputs": [],
   "source": [
    "import warnings\n",
    "import os\n",
    "import datetime\n",
    "from tqdm import tqdm\n",
    "import re\n",
    "import gspread\n",
    "import pandas as pd\n",
    "\n",
    "from pathlib import Path\n",
    "from PIL import Image\n",
    "import PyPDF2\n",
    "from reportlab.pdfgen import canvas\n",
    "from reportlab.lib.pagesizes import A4, landscape\n",
    "from reportlab.pdfbase.ttfonts import TTFont\n",
    "from reportlab.pdfbase.pdfmetrics import registerFont\n",
    "from reportlab.pdfbase.cidfonts import UnicodeCIDFont\n",
    "from reportlab.lib.units import mm\n",
    "from pdfrw import PdfReader\n",
    "from pdfrw.buildxobj import pagexobj\n",
    "from pdfrw.toreportlab import makerl\n",
    "from google.cloud import storage\n",
    "from google.oauth2.service_account import Credentials\n",
    "\n",
    "warnings.simplefilter('ignore')"
   ]
  },
  {
   "cell_type": "code",
   "execution_count": 19,
   "id": "1408e20a-83bf-4b03-b86e-a62b439bd854",
   "metadata": {},
   "outputs": [],
   "source": [
    "dic_unicode={\n",
    "  'グ':'グ', 'ヴ':'ヴ','ボ':'ボ', 'ヂ':'ヂ', 'ぎ':'ぎ', 'ず':'ず', 'プ':'プ', 'デ':'デ', 'パ':'パ', 'ゼ':'ゼ', 'ぴ':'ぴ', \n",
    "  'ぞ':'ぞ', 'ブ':'ブ', 'ギ':'ギ', 'だ':'だ', 'バ':'バ', 'ぽ':'ぽ', 'ズ':'ズ', 'ぷ':'ぷ', 'ポ':'ポ', 'じ':'じ', 'ぢ':'ぢ', \n",
    "  'べ':'べ', 'ぱ':'ぱ', 'ジ':'ジ', 'ザ':'ザ', 'び':'び', 'げ':'げ', 'が':'が', 'ビ':'ビ', 'ベ':'ベ', 'ぶ':'ぶ', 'ば':'ば', \n",
    "  'ざ':'ざ', 'ペ':'ペ', 'ぼ':'ぼ', 'ヅ':'ヅ', 'ゲ':'ゲ', 'ぺ':'ぺ', 'ガ':'ガ', 'ゴ':'ゴ', 'ゾ':'ゾ', 'ピ':'ピ', 'で':'で', \n",
    "  'ぜ':'ぜ', 'ぐ':'ぐ', 'ド':'ド', 'ど':'ど', 'ダ':'ダ', 'づ':'づ', 'ご':'ご','パ':'パ', 'プ':'プ', 'ぴ':'ぴ', 'ポ':'ポ', \n",
    "  'ピ':'ピ', 'ぷ':'ぷ', 'ぽ':'ぽ', 'ぱ':'ぱ', 'ぺ':'ぺ', 'ペ':'ペ'\n",
    "}"
   ]
  },
  {
   "cell_type": "code",
   "execution_count": 24,
   "id": "c66e0bf3-8676-40de-8b64-3696a06f7dc4",
   "metadata": {},
   "outputs": [
    {
     "name": "stderr",
     "output_type": "stream",
     "text": [
      "593it [01:00,  9.76it/s]\n"
     ]
    }
   ],
   "source": [
    "# GCSからpdf取得\n",
    "client=storage.Client(\"geom-prj-property-recommend\")\n",
    "os.environ[\"GOOGLE_APPLICATION_CREDENTIALS\"]=\"geom-prj-property-recommend-70da40021953.json\"\n",
    "bucket=client.get_bucket(\"info-sheet\")\n",
    "blobs=client.list_blobs(bucket)\n",
    "\n",
    "##########\n",
    "# today_date=datetime.datetime.now().strftime('%Y%m%d')\n",
    "#days=-6 # 今日の日付から遡る日数を、ディレクトリを見て調整\n",
    "#target_date=(datetime.datetime.now() + datetime.timedelta(days=days)).strftime('%Y%m%d')\n",
    "target_date = '20230511' # calc_similality.ipynbの実行日に設定する\n",
    "##########\n",
    "\n",
    "\n",
    "ls_pdf=[]\n",
    "\n",
    "for blob in tqdm(blobs):\n",
    "    if \"pdf\" in blob.name and blob.name.startswith(\"全国/\"):\n",
    "        blob_name = blob.name[len(\"全国/\"):]\n",
    "        ls_pdf.append(blob_name)\n",
    "\n",
    "        with open(blob_name, \"wb\") as file_obj:\n",
    "            blob.download_to_file(file_obj)\n",
    "\n",
    "                \n",
    "# SpreadSheet接続設定\n",
    "secret_credentials_json_oath = 'geom-prj-property-recommend-8d74bd11fa15.json' \n",
    "scopes = [\n",
    "    'https://www.googleapis.com/auth/spreadsheets',\n",
    "    'https://www.googleapis.com/auth/drive'\n",
    "]\n",
    "\n",
    "credentials = Credentials.from_service_account_file(\n",
    "    secret_credentials_json_oath,\n",
    "    scopes=scopes\n",
    ")\n",
    "\n",
    "gc = gspread.authorize(credentials)\n",
    "\n",
    "# https://docs.google.com/spreadsheets/d/{ココ}/edit#gid=0\n",
    "workbook = gc.open_by_key('1WU0WTNOGfXwoWhDXhCPJYZGrF0n4IQLQh-d3Ag4U8n4')\n",
    "worksheet = workbook.get_worksheet(0)\n",
    "\n",
    "ls_target=worksheet.get('A1:AI')"
   ]
  },
  {
   "cell_type": "markdown",
   "id": "d23b7b7b-c585-4a84-b3a5-015262d2e4eb",
   "metadata": {},
   "source": [
    "## 関数定義"
   ]
  },
  {
   "cell_type": "code",
   "execution_count": 25,
   "id": "48c8bff8-2778-4971-903c-e8c03cc4a781",
   "metadata": {},
   "outputs": [],
   "source": [
    "def cast_unicode(address):\n",
    "    for uni_word in dic_unicode.keys():\n",
    "        try:\n",
    "            address=address.replace(uni_word,dic_unicode[uni_word])\n",
    "            \n",
    "        except:\n",
    "            continue\n",
    "        \n",
    "    return address\n",
    "\n",
    "\n",
    "def make_pdf(brand_name,in_path,file_name,total_score,resident_score,population_score,station_score,retail_score,lon,lat,target_date):\n",
    "    cc = canvas.Canvas(f\"result/{brand_name}/{brand_name}_results_{target_date}/{file_name}.pdf\",pagesize=landscape(A4))\n",
    "    \n",
    "    # PDFを読み込む\n",
    "    try:\n",
    "        pdf = PdfReader(in_path, decompress=False)\n",
    "    except:\n",
    "        in_path=cast_unicode(in_path) \n",
    "        pdf = PdfReader(in_path, decompress=False)\n",
    "    \n",
    "    page = pdf.pages[0]\n",
    "    pp = pagexobj(page) #ページデータをXobjへの変換\n",
    "    rl_obj = makerl(cc, pp) # ReportLabオブジェクトへの変換 \n",
    "    cc.doForm(rl_obj)\n",
    "    \n",
    "    # フォント設定\n",
    "    font_name = \"HeiseiKakuGo-W5\"\n",
    "    registerFont(UnicodeCIDFont(font_name))\n",
    "    cc.setFont(font_name, 13)\n",
    "    \n",
    "    # 枠描画\n",
    "    cc.setFillColorRGB(1,1,1, alpha=1)\n",
    "    cc.rect(95 * mm, 170 * mm, 100 * mm, 33 * mm, 0, 1)\n",
    "    \n",
    "    # 白で塗りつぶす\n",
    "    cc.setFillColorRGB(0,0,0)\n",
    "    \n",
    "    # 文字描画\n",
    "    height=198\n",
    "    cc.drawString(93 * mm, height * mm, \"ジオマーケティング社独自アルゴリズムに基づく得点\")\n",
    "    \n",
    "    font_name = \"HeiseiKakuGo-W5\"\n",
    "    registerFont(TTFont(\"GenShinGothic_bold\", \"GenShinGothic-Bold.ttf\"))\n",
    "    font_bold=\"GenShinGothic_bold\"\n",
    "    cc.setFont(font_bold, 13)\n",
    "    \n",
    "    cc.drawString(93 * mm, (height-7) * mm, \"あなたのブランドへの物件レコメンド得点：\"+str(total_score))\n",
    "    cc.setFont(font_name, 12)\n",
    "    cc.drawString(94 * mm, (height-15) * mm, \"[あなたのブランドの好調店舗との比較]\")\n",
    "    cc.drawString(94 * mm, (height-20) * mm, \"周辺居住者類似度 ：\"+str(resident_score)+\"　商業集積類似度：\"+str(retail_score))\n",
    "    cc.drawString(94 * mm, (height-25) * mm, \"滞在人口類似度   ：\"+str(population_score)+\"　最寄駅からの距離類似度：\"+str(station_score))\n",
    "    \n",
    "    # 強調するための着色\n",
    "    cc.setLineWidth(0.8 * mm)\n",
    "    cc.setStrokeColorRGB(0,191,255)\n",
    "    cc.rect(92 * mm,  171* mm, 115 * mm, 33 * mm, 1, 0)\n",
    "    \n",
    "    # ハイパーリンク（矩形）\n",
    "    link_address=f'https://app.gleasin.jp/optional_point/result/?lat={lat}&lon={lon}'\n",
    "    cc.setFillColorRGB(0,191,255)\n",
    "    cc.rect(170 * mm, (height-15.5) * mm, 14*mm, 4*mm, 0, 1)\n",
    "    cc.setFillColorRGB(0,0,0)\n",
    "    cc.drawString(170 * mm, (height-15) * mm, \"Check!\")\n",
    "    cc.linkURL(url=link_address, rect=(170 * mm, (height-10) * mm, (170+15)*mm, (height-15)*mm), thickness=1, relative=0)\n",
    "        \n",
    "    cc.showPage()\n",
    "    cc.save()\n",
    "\n",
    "\n",
    "def make_one_pdf(df,pref,target_date,brand_name):\n",
    "    for i in tqdm(range(len(df))):\n",
    "        address=str(df.iloc[i,2] + \"_\" + df.iloc[i,1])\n",
    "        \n",
    "        # FileNotFoundエラーが出たらこの辺いじる\n",
    "        # address=address.replace(\"/\",\":\")\n",
    "        address=address.replace(\"/\",\"_\")\n",
    "        # address=address.replace(\" \",\"\")\n",
    "        \n",
    "        \n",
    "        bld_name=df.iloc[i,1]\n",
    "        bld_address=str(address+\"_\"+bld_name)\n",
    "        \n",
    "        # 各特徴の点数\n",
    "        total_score=round(df.iloc[i,3]*100,1)\n",
    "        resident_score=round(df.iloc[i,4]*100,1)\n",
    "        population_score=round(df.iloc[i,5]*100,1)\n",
    "        station_score=round(df.iloc[i,6]*100,1)\n",
    "        retail_score=round(df.iloc[i,7]*100,1)\n",
    "                \n",
    "        lon,lat=df.iloc[i,8],df.iloc[i,9]\n",
    "       \n",
    "        make_pdf(brand_name,f'{address}.pdf',f'{pref}_{i+1}',total_score,resident_score,population_score,station_score,retail_score,lon,lat,target_date)\n",
    "\n",
    "        \n",
    "def merge_pdf(df,brand_name,company_name,kanji,target_date):\n",
    "    merger = PyPDF2.PdfMerger()\n",
    "    for i in tqdm(range(len(df))):\n",
    "        merger.append(f'result/{brand_name}/{brand_name}_results_{target_date}/{kanji}_{i+1}.pdf')\n",
    "        \n",
    "    merger.write(f'result/{brand_name}/{brand_name}_results_{target_date}/{company_name}様_物件レコメンド_{kanji}_{target_date}.pdf')\n",
    "    merger.close()\n",
    "    "
   ]
  },
  {
   "cell_type": "markdown",
   "id": "7147fc80-646d-40b7-9b49-e6a9e86dcf6a",
   "metadata": {},
   "source": [
    "## Processing"
   ]
  },
  {
   "cell_type": "code",
   "execution_count": 26,
   "id": "4e6a3d6f-44e6-4240-9699-f420535f8dc1",
   "metadata": {},
   "outputs": [
    {
     "name": "stdout",
     "output_type": "stream",
     "text": [
      "LifeCoach ['大阪府', '東京都', '岐阜県', '愛知県', '京都府', '滋賀県']\n",
      "大阪府\n",
      "failure\n",
      "東京都\n"
     ]
    },
    {
     "name": "stderr",
     "output_type": "stream",
     "text": [
      "100%|██████████| 2/2 [00:00<00:00,  9.81it/s]\n",
      "100%|██████████| 2/2 [00:00<00:00, 743.87it/s]\n"
     ]
    },
    {
     "name": "stdout",
     "output_type": "stream",
     "text": [
      "岐阜県\n",
      "failure\n",
      "愛知県\n",
      "failure\n",
      "京都府\n"
     ]
    },
    {
     "name": "stderr",
     "output_type": "stream",
     "text": [
      "100%|██████████| 1/1 [00:00<00:00, 16.70it/s]\n",
      "100%|██████████| 1/1 [00:00<00:00, 724.28it/s]\n"
     ]
    },
    {
     "name": "stdout",
     "output_type": "stream",
     "text": [
      "滋賀県\n",
      "failure\n",
      "fukushin ['埼玉県', '東京都']\n",
      "埼玉県\n",
      "failure\n",
      "東京都\n"
     ]
    },
    {
     "name": "stderr",
     "output_type": "stream",
     "text": [
      "100%|██████████| 5/5 [00:00<00:00, 11.00it/s]\n",
      "100%|██████████| 5/5 [00:00<00:00, 867.45it/s]"
     ]
    },
    {
     "name": "stdout",
     "output_type": "stream",
     "text": [
      "bestbuy ['埼玉県', '千葉県', '東京都', '神奈川県', '岐阜県', '京都府', '大阪府', '兵庫県', '奈良県']\n",
      "埼玉県\n",
      "failure\n",
      "千葉県\n",
      "failure\n",
      "東京都\n",
      "failure\n",
      "神奈川県\n",
      "failure\n",
      "岐阜県\n",
      "failure\n",
      "京都府\n",
      "failure\n",
      "大阪府\n",
      "failure\n",
      "兵庫県\n",
      "failure\n",
      "奈良県\n",
      "failure\n",
      "tamura ['石川県']\n",
      "石川県\n",
      "failure\n"
     ]
    },
    {
     "name": "stderr",
     "output_type": "stream",
     "text": [
      "\n"
     ]
    }
   ],
   "source": [
    "##########\n",
    "#today_date = datetime.datetime.now().strftime('%Y%m%d')\n",
    "#days=0 # 今日の日付から遡る日数を、ディレクトリを見て調整\n",
    "#target_date=(datetime.datetime.now() + datetime.timedelta(days=days)).strftime('%Y%m%d') \n",
    "target_date = '20230511' # calc_similality.ipynbの実行日に設定する\n",
    "##########\n",
    "\n",
    "for target in ls_target[1:]:\n",
    "    brand_name = target[33]\n",
    "    company_name = target[4]\n",
    "    target_prefs = [p.strip() for p in target[10].split(\",\")]\n",
    "\n",
    "    print(brand_name, target_prefs)\n",
    "\n",
    "    for pref in target_prefs:\n",
    "        print(pref)\n",
    "        try:\n",
    "            df = pd.read_csv(f'result/{brand_name}/{brand_name}_results_{target_date}/df_result_{pref}_{target_date}.csv')\n",
    "            make_one_pdf(df, pref, target_date, brand_name)\n",
    "            merge_pdf(df, brand_name, company_name, pref, target_date)\n",
    "        except:\n",
    "            print(\"failure\")\n",
    "            pass"
   ]
  }
 ],
 "metadata": {
  "environment": {
   "kernel": "python3",
   "name": "common-cpu.m108",
   "type": "gcloud",
   "uri": "gcr.io/deeplearning-platform-release/base-cpu:m108"
  },
  "kernelspec": {
   "display_name": "Python 3",
   "language": "python",
   "name": "python3"
  },
  "language_info": {
   "codemirror_mode": {
    "name": "ipython",
    "version": 3
   },
   "file_extension": ".py",
   "mimetype": "text/x-python",
   "name": "python",
   "nbconvert_exporter": "python",
   "pygments_lexer": "ipython3",
   "version": "3.7.12"
  }
 },
 "nbformat": 4,
 "nbformat_minor": 5
}
